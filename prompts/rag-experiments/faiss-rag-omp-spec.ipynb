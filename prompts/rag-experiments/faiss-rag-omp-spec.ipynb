{
 "cells": [
  {
   "cell_type": "code",
   "execution_count": 1,
   "id": "862caee3-fe36-405f-8a41-407ca324ff5a",
   "metadata": {
    "tags": []
   },
   "outputs": [
    {
     "data": {
      "application/vnd.jupyter.widget-view+json": {
       "model_id": "6a9b6ccd7ad14ba597a35ec7af367b94",
       "version_major": 2,
       "version_minor": 0
      },
      "text/plain": [
       "Generating train split: 0 examples [00:00, ? examples/s]"
      ]
     },
     "metadata": {},
     "output_type": "display_data"
    },
    {
     "data": {
      "text/plain": [
       "Dataset({\n",
       "    features: ['section_title', 'chunk'],\n",
       "    num_rows: 1846\n",
       "})"
      ]
     },
     "execution_count": 1,
     "metadata": {},
     "output_type": "execute_result"
    }
   ],
   "source": [
    "from datasets import load_dataset\n",
    "\n",
    "#spec_dataset = load_dataset(\"lewtun/github-issues\", split=\"train\")\n",
    "spec_dataset = load_dataset('json', data_files='/home/jhdavis/repos/llms-for-hpc/prompts/omp-context.json', split=\"train\")\n",
    "spec_dataset"
   ]
  },
  {
   "cell_type": "code",
   "execution_count": 2,
   "id": "75501754-f3cd-4467-b16e-f021bf3df2bc",
   "metadata": {
    "tags": []
   },
   "outputs": [
    {
     "data": {
      "application/vnd.jupyter.widget-view+json": {
       "model_id": "dbcd58a9ccba41e79b7009870cc931e0",
       "version_major": 2,
       "version_minor": 0
      },
      "text/plain": [
       "Filter:   0%|          | 0/1846 [00:00<?, ? examples/s]"
      ]
     },
     "metadata": {},
     "output_type": "display_data"
    },
    {
     "data": {
      "text/plain": [
       "Dataset({\n",
       "    features: ['section_title', 'chunk'],\n",
       "    num_rows: 1832\n",
       "})"
      ]
     },
     "execution_count": 2,
     "metadata": {},
     "output_type": "execute_result"
    }
   ],
   "source": [
    "spec_dataset = spec_dataset.filter(lambda x: len(x[\"chunk\"]) > 0)\n",
    "spec_dataset"
   ]
  },
  {
   "cell_type": "code",
   "execution_count": 3,
   "id": "cb668a67-0adf-4db1-b5a5-7704f47e63e5",
   "metadata": {
    "tags": []
   },
   "outputs": [
    {
     "data": {
      "application/vnd.jupyter.widget-view+json": {
       "model_id": "93a248ece3bf4b1991b02f8fcac03ce1",
       "version_major": 2,
       "version_minor": 0
      },
      "text/plain": [
       "Map:   0%|          | 0/1832 [00:00<?, ? examples/s]"
      ]
     },
     "metadata": {},
     "output_type": "display_data"
    }
   ],
   "source": [
    "spec_dataset = spec_dataset.map(\n",
    "    lambda x: {\"text_length\": len(x[\"chunk\"].split())}\n",
    ")"
   ]
  },
  {
   "cell_type": "code",
   "execution_count": 4,
   "id": "8ef6eca0-1f9f-4c41-917a-896bd65d65b8",
   "metadata": {
    "tags": []
   },
   "outputs": [
    {
     "data": {
      "application/vnd.jupyter.widget-view+json": {
       "model_id": "bc77495aae3d4292a64a0177e1b7616b",
       "version_major": 2,
       "version_minor": 0
      },
      "text/plain": [
       "Filter:   0%|          | 0/1832 [00:00<?, ? examples/s]"
      ]
     },
     "metadata": {},
     "output_type": "display_data"
    },
    {
     "data": {
      "text/plain": [
       "Dataset({\n",
       "    features: ['section_title', 'chunk', 'text_length'],\n",
       "    num_rows: 1789\n",
       "})"
      ]
     },
     "execution_count": 4,
     "metadata": {},
     "output_type": "execute_result"
    }
   ],
   "source": [
    "spec_dataset = spec_dataset.filter(lambda x: x[\"text_length\"] > 20)\n",
    "spec_dataset"
   ]
  },
  {
   "cell_type": "code",
   "execution_count": 5,
   "id": "5dcb5770-27e4-4e94-8da1-4a1fb82834fa",
   "metadata": {
    "tags": []
   },
   "outputs": [
    {
     "data": {
      "application/vnd.jupyter.widget-view+json": {
       "model_id": "34e8bf49918d4c4581da2ef4672537df",
       "version_major": 2,
       "version_minor": 0
      },
      "text/plain": [
       "Map:   0%|          | 0/1789 [00:00<?, ? examples/s]"
      ]
     },
     "metadata": {},
     "output_type": "display_data"
    },
    {
     "data": {
      "text/plain": [
       "Dataset({\n",
       "    features: ['section_title', 'chunk', 'text_length', 'text'],\n",
       "    num_rows: 1789\n",
       "})"
      ]
     },
     "execution_count": 5,
     "metadata": {},
     "output_type": "execute_result"
    }
   ],
   "source": [
    "def concatenate_text(examples):\n",
    "    return {\n",
    "        \"text\": examples[\"section_title\"]\n",
    "        + \" \\n \"\n",
    "        + examples[\"chunk\"]\n",
    "    }\n",
    "\n",
    "\n",
    "spec_dataset = spec_dataset.map(concatenate_text)\n",
    "spec_dataset"
   ]
  },
  {
   "cell_type": "code",
   "execution_count": 6,
   "id": "3845a2d7-405e-4a5d-8c15-0d4681452a6a",
   "metadata": {
    "tags": []
   },
   "outputs": [
    {
     "name": "stderr",
     "output_type": "stream",
     "text": [
      "2024-02-23 15:00:10.962009: E external/local_xla/xla/stream_executor/cuda/cuda_dnn.cc:9261] Unable to register cuDNN factory: Attempting to register factory for plugin cuDNN when one has already been registered\n",
      "2024-02-23 15:00:10.962055: E external/local_xla/xla/stream_executor/cuda/cuda_fft.cc:607] Unable to register cuFFT factory: Attempting to register factory for plugin cuFFT when one has already been registered\n",
      "2024-02-23 15:00:10.966139: E external/local_xla/xla/stream_executor/cuda/cuda_blas.cc:1515] Unable to register cuBLAS factory: Attempting to register factory for plugin cuBLAS when one has already been registered\n",
      "2024-02-23 15:00:10.975427: I tensorflow/core/platform/cpu_feature_guard.cc:182] This TensorFlow binary is optimized to use available CPU instructions in performance-critical operations.\n",
      "To enable the following instructions: AVX2 FMA, in other operations, rebuild TensorFlow with the appropriate compiler flags.\n",
      "2024-02-23 15:00:12.010445: W tensorflow/compiler/tf2tensorrt/utils/py_utils.cc:38] TF-TRT Warning: Could not find TensorRT\n"
     ]
    },
    {
     "data": {
      "text/plain": [
       "'2.15.0'"
      ]
     },
     "execution_count": 6,
     "metadata": {},
     "output_type": "execute_result"
    }
   ],
   "source": [
    "import tensorflow as tf\n",
    "tf.__version__"
   ]
  },
  {
   "cell_type": "code",
   "execution_count": 7,
   "id": "87bf59a9-38b9-4b03-bfc4-ccac555cf366",
   "metadata": {
    "tags": []
   },
   "outputs": [
    {
     "name": "stderr",
     "output_type": "stream",
     "text": [
      "2024-02-23 15:00:15.180476: I external/local_xla/xla/stream_executor/cuda/cuda_executor.cc:901] successful NUMA node read from SysFS had negative value (-1), but there must be at least one NUMA node, so returning NUMA node zero. See more at https://github.com/torvalds/linux/blob/v6.0/Documentation/ABI/testing/sysfs-bus-pci#L344-L355\n",
      "2024-02-23 15:00:15.182941: I external/local_xla/xla/stream_executor/cuda/cuda_executor.cc:901] successful NUMA node read from SysFS had negative value (-1), but there must be at least one NUMA node, so returning NUMA node zero. See more at https://github.com/torvalds/linux/blob/v6.0/Documentation/ABI/testing/sysfs-bus-pci#L344-L355\n",
      "2024-02-23 15:00:15.183112: I external/local_xla/xla/stream_executor/cuda/cuda_executor.cc:901] successful NUMA node read from SysFS had negative value (-1), but there must be at least one NUMA node, so returning NUMA node zero. See more at https://github.com/torvalds/linux/blob/v6.0/Documentation/ABI/testing/sysfs-bus-pci#L344-L355\n",
      "2024-02-23 15:00:15.183954: I external/local_xla/xla/stream_executor/cuda/cuda_executor.cc:901] successful NUMA node read from SysFS had negative value (-1), but there must be at least one NUMA node, so returning NUMA node zero. See more at https://github.com/torvalds/linux/blob/v6.0/Documentation/ABI/testing/sysfs-bus-pci#L344-L355\n",
      "2024-02-23 15:00:15.184071: I external/local_xla/xla/stream_executor/cuda/cuda_executor.cc:901] successful NUMA node read from SysFS had negative value (-1), but there must be at least one NUMA node, so returning NUMA node zero. See more at https://github.com/torvalds/linux/blob/v6.0/Documentation/ABI/testing/sysfs-bus-pci#L344-L355\n",
      "2024-02-23 15:00:15.184173: I external/local_xla/xla/stream_executor/cuda/cuda_executor.cc:901] successful NUMA node read from SysFS had negative value (-1), but there must be at least one NUMA node, so returning NUMA node zero. See more at https://github.com/torvalds/linux/blob/v6.0/Documentation/ABI/testing/sysfs-bus-pci#L344-L355\n",
      "2024-02-23 15:00:18.222570: I external/local_xla/xla/stream_executor/cuda/cuda_executor.cc:901] successful NUMA node read from SysFS had negative value (-1), but there must be at least one NUMA node, so returning NUMA node zero. See more at https://github.com/torvalds/linux/blob/v6.0/Documentation/ABI/testing/sysfs-bus-pci#L344-L355\n",
      "2024-02-23 15:00:18.222731: I external/local_xla/xla/stream_executor/cuda/cuda_executor.cc:901] successful NUMA node read from SysFS had negative value (-1), but there must be at least one NUMA node, so returning NUMA node zero. See more at https://github.com/torvalds/linux/blob/v6.0/Documentation/ABI/testing/sysfs-bus-pci#L344-L355\n",
      "2024-02-23 15:00:18.222853: I external/local_xla/xla/stream_executor/cuda/cuda_executor.cc:901] successful NUMA node read from SysFS had negative value (-1), but there must be at least one NUMA node, so returning NUMA node zero. See more at https://github.com/torvalds/linux/blob/v6.0/Documentation/ABI/testing/sysfs-bus-pci#L344-L355\n",
      "2024-02-23 15:00:18.223049: I tensorflow/core/common_runtime/gpu/gpu_device.cc:1929] Created device /job:localhost/replica:0/task:0/device:GPU:0 with 3591 MB memory:  -> device: 0, name: NVIDIA GeForce RTX 3060 Laptop GPU, pci bus id: 0000:01:00.0, compute capability: 8.6\n",
      "Some weights of the PyTorch model were not used when initializing the TF 2.0 model TFMPNetModel: ['embeddings.position_ids']\n",
      "- This IS expected if you are initializing TFMPNetModel from a PyTorch model trained on another task or with another architecture (e.g. initializing a TFBertForSequenceClassification model from a BertForPreTraining model).\n",
      "- This IS NOT expected if you are initializing TFMPNetModel from a PyTorch model that you expect to be exactly identical (e.g. initializing a TFBertForSequenceClassification model from a BertForSequenceClassification model).\n",
      "All the weights of TFMPNetModel were initialized from the PyTorch model.\n",
      "If your task is similar to the task the model of the checkpoint was trained on, you can already use TFMPNetModel for predictions without further training.\n"
     ]
    }
   ],
   "source": [
    "import importlib.util\n",
    "importlib.util.find_spec(\"tensorflow\")\n",
    "\n",
    "from transformers import AutoTokenizer, TFAutoModel\n",
    "\n",
    "model_ckpt = \"sentence-transformers/multi-qa-mpnet-base-dot-v1\"\n",
    "tokenizer = AutoTokenizer.from_pretrained(model_ckpt)\n",
    "model = TFAutoModel.from_pretrained(model_ckpt, from_pt=True)"
   ]
  },
  {
   "cell_type": "code",
   "execution_count": 8,
   "id": "95b1ab0e-ce49-46aa-9f88-2ca09df2c69d",
   "metadata": {},
   "outputs": [],
   "source": [
    "def cls_pooling(model_output):\n",
    "    return model_output.last_hidden_state[:, 0]"
   ]
  },
  {
   "cell_type": "code",
   "execution_count": 9,
   "id": "bddfaca4-5ec2-46a9-ab25-1181aae3b8fe",
   "metadata": {
    "tags": []
   },
   "outputs": [],
   "source": [
    "def get_embeddings(text_list):\n",
    "    encoded_input = tokenizer(\n",
    "        text_list, padding=True, truncation=True, return_tensors=\"tf\"\n",
    "    )\n",
    "    encoded_input = {k: v for k, v in encoded_input.items()}\n",
    "    model_output = model(**encoded_input)\n",
    "    return cls_pooling(model_output)"
   ]
  },
  {
   "cell_type": "code",
   "execution_count": 10,
   "id": "3183950f-105a-47d5-ac80-580480b650d3",
   "metadata": {
    "tags": []
   },
   "outputs": [
    {
     "data": {
      "text/plain": [
       "TensorShape([1, 768])"
      ]
     },
     "execution_count": 10,
     "metadata": {},
     "output_type": "execute_result"
    }
   ],
   "source": [
    "embedding = get_embeddings(spec_dataset[\"text\"][0])\n",
    "embedding.shape"
   ]
  },
  {
   "cell_type": "code",
   "execution_count": 11,
   "id": "e697a17e-d4ad-4230-bc65-2efd1bc74ca8",
   "metadata": {
    "tags": []
   },
   "outputs": [
    {
     "name": "stderr",
     "output_type": "stream",
     "text": [
      "/home/jhdavis/.local/lib/python3.10/site-packages/transformers/generation/tf_utils.py:465: UserWarning: `seed_generator` is deprecated and will be removed in a future version.\n",
      "  warnings.warn(\"`seed_generator` is deprecated and will be removed in a future version.\", UserWarning)\n"
     ]
    },
    {
     "data": {
      "application/vnd.jupyter.widget-view+json": {
       "model_id": "dbe3c3362f4340b286823a88c7248678",
       "version_major": 2,
       "version_minor": 0
      },
      "text/plain": [
       "Map:   0%|          | 0/1789 [00:00<?, ? examples/s]"
      ]
     },
     "metadata": {},
     "output_type": "display_data"
    }
   ],
   "source": [
    "embeddings_dataset = spec_dataset.map(\n",
    "    lambda x: {\"embeddings\": get_embeddings(x[\"text\"]).numpy()[0]}\n",
    ")"
   ]
  },
  {
   "cell_type": "code",
   "execution_count": 12,
   "id": "f73d039a-318e-4fad-8021-3920aa161e46",
   "metadata": {
    "tags": []
   },
   "outputs": [
    {
     "data": {
      "application/vnd.jupyter.widget-view+json": {
       "model_id": "00da0f7844ac47ada7aa4de9f77935aa",
       "version_major": 2,
       "version_minor": 0
      },
      "text/plain": [
       "  0%|          | 0/2 [00:00<?, ?it/s]"
      ]
     },
     "metadata": {},
     "output_type": "display_data"
    },
    {
     "data": {
      "text/plain": [
       "Dataset({\n",
       "    features: ['section_title', 'chunk', 'text_length', 'text', 'embeddings'],\n",
       "    num_rows: 1789\n",
       "})"
      ]
     },
     "execution_count": 12,
     "metadata": {},
     "output_type": "execute_result"
    }
   ],
   "source": [
    "embeddings_dataset.add_faiss_index(column=\"embeddings\")"
   ]
  },
  {
   "cell_type": "code",
   "execution_count": 21,
   "id": "01fff8d7-db16-45e0-bc0a-9bf95d562bd1",
   "metadata": {
    "tags": []
   },
   "outputs": [
    {
     "data": {
      "text/plain": [
       "(1, 768)"
      ]
     },
     "execution_count": 21,
     "metadata": {},
     "output_type": "execute_result"
    }
   ],
   "source": [
    "question = \"Scan problem: Replace the i-th element of the vector x with the minimum value from indices 0 through i. Use OpenMP to compute in parallel.\"\n",
    "question_embedding = get_embeddings([question]).numpy()\n",
    "question_embedding.shape"
   ]
  },
  {
   "cell_type": "code",
   "execution_count": 22,
   "id": "c5deff09-5eb6-495e-ac6a-6d00c4f126a7",
   "metadata": {
    "tags": []
   },
   "outputs": [],
   "source": [
    "scores, samples = embeddings_dataset.get_nearest_examples(\n",
    "    \"embeddings\", question_embedding, k=5\n",
    ")"
   ]
  },
  {
   "cell_type": "code",
   "execution_count": 23,
   "id": "13f25116-efae-444a-81a8-55b6e0d979bb",
   "metadata": {
    "tags": []
   },
   "outputs": [],
   "source": [
    "import pandas as pd\n",
    "\n",
    "samples_df = pd.DataFrame.from_dict(samples)\n",
    "samples_df[\"scores\"] = scores\n",
    "samples_df.sort_values(\"scores\", ascending=False, inplace=True)"
   ]
  },
  {
   "cell_type": "code",
   "execution_count": 24,
   "id": "131405cc-8f21-4cd4-9001-9374429be832",
   "metadata": {
    "tags": []
   },
   "outputs": [
    {
     "name": "stdout",
     "output_type": "stream",
     "text": [
      "SPEC CHUNK: \n",
      " • The memspace-handle argument for the mem-space modifier must be an identifier that matches \n",
      " one of the predefined memory space names.\n",
      " Cross References \n",
      " • Memory Allocators, see Section 6.2 \n",
      " • Memory Spaces, see Section 6.1 \n",
      " • omp_destroy_allocator, see Section 18.13.3 \n",
      " • omp_init_allocator, see Section 18.13.2 \n",
      " • target directive, see Section 13.8 \n",
      " OpenMP API – Version 5.2 November 2021 \n",
      "\n",
      "SECTION: 6.8 uses_allocators Clause\n",
      "SCORE: 36.951053619384766\n",
      "==================================================\n",
      "\n",
      "SPEC CHUNK: RUNTIME LIBRARY ROUTINES 423 \n",
      " integer(kind=omp_alloctrait_val_kind), & \n",
      " parameter :: omp_atv_serialized = 5 \n",
      " integer(kind=omp_alloctrait_val_kind), & \n",
      " parameter :: omp_atv_sequential = & \n",
      " omp_atv_serialized ! (deprecated) \n",
      " integer(kind=omp_alloctrait_val_kind), & \n",
      " parameter :: omp_atv_private = 6 \n",
      " integer(kind=omp_alloctrait_val_kind), & \n",
      " parameter :: omp_atv_all = 7 \n",
      " integer(kind=omp_alloctrait_val_kind), & \n",
      " parameter :: omp_atv_thread = 8 \n",
      " integer(kind=omp_alloctrait_val_kind), & \n",
      " parameter :: omp_atv_pteam = 9 \n",
      " integer(kind=omp_alloctrait_val_kind), & \n",
      " parameter :: omp_atv_cgroup = 10 \n",
      " integer(kind=omp_alloctrait_val_kind), & \n",
      " parameter :: omp_atv_default_mem_fb = 11 \n",
      " integer(kind=omp_alloctrait_val_kind), & \n",
      " parameter :: omp_atv_null_fb = 12 \n",
      " integer(kind=omp_alloctrait_val_kind), & \n",
      " parameter :: omp_atv_abort_fb = 13 \n",
      " integer(kind=omp_alloctrait_val_kind), & \n",
      " parameter :: omp_atv_allocator_fb = 14 \n",
      " integer(kind=omp_alloctrait_val_kind), & \n",
      " parameter :: omp_atv_environment = 15 \n",
      " integer(kind=omp_alloctrait_val_kind), & \n",
      " parameter :: omp_atv_nearest = 16 \n",
      " integer(kind=omp_alloctrait_val_kind), & \n",
      " parameter :: omp_atv_blocked = 17 \n",
      " integer(kind=omp_alloctrait_val_kind), & \n",
      " parameter :: omp_atv_interleaved = 18 \n",
      " \n",
      " ! omp_alloctrait might not be provided in omp_lib.h.\n",
      " type omp_alloctrait \n",
      " integer(kind=omp_alloctrait_key_kind) key \n",
      " integer(kind=omp_alloctrait_val_kind) value \n",
      " end type omp_alloctrait \n",
      " \n",
      " integer(kind=omp_allocator_handle_kind), & \n",
      " parameter :: omp_null_allocator = 0 \n",
      "Fortran \n",
      " OpenMP API – Version 5.2 November 2021 \n",
      "\n",
      "SECTION: 18.13.1 Memory Management Types\n",
      "SCORE: 36.60191345214844\n",
      "==================================================\n",
      "\n",
      "SPEC CHUNK: \n",
      "TABLE 2.3: Ways to Modify and to Retrieve ICV Values \n",
      "ICV Ways to Modify Value Ways to Retrieve Value \n",
      "active-levels-var (none) omp_get_active_level \n",
      "affinity-format-var omp_set_affinity_format omp_get_affinity_format \n",
      "bind-var (none) omp_get_proc_bind \n",
      "cancel-var (none) omp_get_cancellation \n",
      " OpenMP API – Version 5.2 November 2021 \n",
      "ICV Ways to Modify Value Ways to Retrieve Value \n",
      "debug-var (none) (none) \n",
      "def-allocator-var omp_set_default_allocator omp_get_default_allocator \n",
      "default-device-var omp_set_default_device omp_get_default_device \n",
      "display-affinity-var (none) (none) \n",
      "dyn-var omp_set_dynamic omp_get_dynamic \n",
      "explicit-task-var (none) omp_in_explicit_task \n",
      "final-task-var (none) omp_in_final \n",
      "levels-var (none) omp_get_level \n",
      "max-active-levels-var omp_set_max_active_levels, \n",
      "omp_set_nested \n",
      "omp_get_max_active_levels \n",
      "max-task-priority-var (none) omp_get_max_task_priority \n",
      "nteams-var omp_set_num_teams omp_get_max_teams \n",
      "nthreads-var omp_set_num_threads omp_get_max_threads \n",
      "num-procs-var (none) omp_get_num_procs \n",
      "place-partition-var (none) omp_get_partition_num_places, \n",
      "omp_get_partition_place_nums, \n",
      "omp_get_place_num_procs, \n",
      "omp_get_place_proc_ids \n",
      "run-sched-var omp_set_schedule omp_get_schedule \n",
      "stacksize-var (none) (none) \n",
      "target-offload-var (none) (none) \n",
      "team-size-var (none) omp_get_num_threads \n",
      "teams-thread-limit-var omp_set_teams_thread_limit omp_get_teams_thread_limit \n",
      "thread-limit-var thread_limit omp_get_thread_limit \n",
      "thread-num-var (none) omp_get_thread_num \n",
      "tool-libraries-var (none) (none) \n",
      "tool-var (none) (none) \n",
      "tool-verbose-init-var (none) (none) \n",
      "wait-policy-var (none) (none) \n",
      " Semantics \n",
      " • The value of the bind-var ICV is a list.The runtime call omp_get_proc_bind retrieves the \n",
      " value of the first element of this list.\n",
      "SECTION: 2.3 Modifying and Retrieving ICV Values\n",
      "SCORE: 36.00232696533203\n",
      "==================================================\n",
      "\n",
      "SPEC CHUNK: \n",
      " Format \n",
      "C / C++ \n",
      " int omp_target_memcpy_rect( \n",
      " void *dst, \n",
      " const void *src, \n",
      " size_t element_size, \n",
      " int num_dims, \n",
      " const size_t *volume, \n",
      " const size_t *dst_offsets, \n",
      " OpenMP API – Version 5.2 November 2021 \n",
      " const size_t *src_offsets, \n",
      " const size_t *dst_dimensions, \n",
      " const size_t *src_dimensions, \n",
      " int dst_device_num, \n",
      " int src_device_num \n",
      " ); \n",
      "C / C++ \n",
      "Fortran \n",
      " integer(c_int) function omp_target_memcpy_rect(dst,src,element_size, & \n",
      " num_dims, volume, dst_offsets, src_offsets, dst_dimensions, src_dimensions, & \n",
      " dst_device_num, src_device_num) bind(c) \n",
      " use, intrinsic :: iso_c_binding, only : c_ptr, c_int, c_size_t \n",
      " type(c_ptr), value :: dst, src \n",
      " integer(c_size_t), value :: element_size \n",
      " integer(c_int), value :: num_dims, dst_device_num, src_device_num \n",
      " integer(c_size_t), intent(in) :: volume(*), dst_offsets(*), & \n",
      " src_offsets(*), dst_dimensions(*), src_dimensions(*) \n",
      "Fortran \n",
      " Constraints on Arguments \n",
      " Each device pointer specified must be valid for the device on the same side of the copy.The \n",
      " dst_device_num and src_device_num arguments must be conforming device numbers.\n",
      "SECTION: 18.8.6 omp_target_memcpy_rect\n",
      "SCORE: 35.65639114379883\n",
      "==================================================\n",
      "\n",
      "SPEC CHUNK: \n",
      " OpenMP API – Version 5.2 November 2021 \n",
      " Format \n",
      "C / C++ \n",
      " int omp_target_memcpy_rect_async( \n",
      " void *dst, \n",
      " const void *src, \n",
      " size_t element_size, \n",
      " int num_dims, \n",
      " const size_t *volume, \n",
      " const size_t *dst_offsets, \n",
      " const size_t *src_offsets, \n",
      " const size_t *dst_dimensions, \n",
      " const size_t *src_dimensions, \n",
      " int dst_device_num, \n",
      " int src_device_num, \n",
      " int depobj_count, \n",
      " omp_depend_t *depobj_list \n",
      " ); \n",
      "C / C++ \n",
      "Fortran \n",
      " integer(c_int) function omp_target_memcpy_rect_async(dst, src, & \n",
      " element_size, num_dims, volume, dst_offsets, src_offsets, & \n",
      " dst_dimensions, src_dimensions, dst_device_num, src_device_num, & \n",
      " depobj_count, depobj_list) bind(c) \n",
      " use, intrinsic :: iso_c_binding, only : c_ptr, c_int, c_size_t \n",
      " type(c_ptr), value :: dst, src \n",
      " integer(c_size_t), value :: element_size \n",
      " integer(c_int), value :: num_dims, dst_device_num, src_device_num, & \n",
      " depobj_count \n",
      " integer(c_size_t), intent(in) :: volume(*), dst_offsets(*), & \n",
      " src_offsets(*), dst_dimensions(*), src_dimensions(*) \n",
      " integer(omp_depobj_kind), optional :: depobj_list(*) \n",
      "Fortran \n",
      " Constraints on Arguments \n",
      " Each device pointer specified must be valid for the device on the same side of the copy.The \n",
      " dst_device_num and src_device_num arguments must be conforming device numbers.\n",
      "SECTION: 18.8.8 omp_target_memcpy_rect_async\n",
      "SCORE: 33.694664001464844\n",
      "==================================================\n",
      "\n"
     ]
    }
   ],
   "source": [
    "for _, row in samples_df.iterrows():\n",
    "    print(f\"SPEC CHUNK: {row.chunk}\")\n",
    "    print(f\"SECTION: {row.section_title}\")\n",
    "    print(f\"SCORE: {row.scores}\")\n",
    "    print(\"=\" * 50)\n",
    "    print()"
   ]
  },
  {
   "cell_type": "code",
   "execution_count": null,
   "id": "baab46d9-e6e6-4a7d-9926-a0ad30447141",
   "metadata": {},
   "outputs": [],
   "source": []
  }
 ],
 "metadata": {
  "kernelspec": {
   "display_name": "Python 3 (ipykernel)",
   "language": "python",
   "name": "python3"
  },
  "language_info": {
   "codemirror_mode": {
    "name": "ipython",
    "version": 3
   },
   "file_extension": ".py",
   "mimetype": "text/x-python",
   "name": "python",
   "nbconvert_exporter": "python",
   "pygments_lexer": "ipython3",
   "version": "3.10.12"
  }
 },
 "nbformat": 4,
 "nbformat_minor": 5
}
